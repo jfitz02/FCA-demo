{
 "cells": [
  {
   "cell_type": "code",
   "execution_count": null,
   "metadata": {},
   "outputs": [],
   "source": [
    "#get setences from setnences.txt\n",
    "sentences = []\n",
    "with open('sentences.txt', 'r') as f:\n",
    "    for line in f:\n",
    "        sentences.append(line.strip())\n",
    "\n",
    "for sentence in sentences:\n",
    "    print(sentence)"
   ]
  },
  {
   "cell_type": "code",
   "execution_count": null,
   "metadata": {},
   "outputs": [],
   "source": [
    "import re\n",
    "import nltk\n",
    "from nltk.corpus import stopwords\n",
    "from nltk.stem import WordNetLemmatizer\n",
    "from nltk.corpus import stopwords\n",
    "\n",
    "\n",
    "def clean_text(text):\n",
    "    text = re.sub(r'[^\\w\\s]','',text)\n",
    "    text = text.lower()\n",
    "    text = text.split()\n",
    "    text = [word for word in text if word not in stopwords.words('english')]\n",
    "    text = ' '.join(text)\n",
    "    return text\n",
    "\n",
    "sentences = [clean_text(sentence) for sentence in sentences]\n",
    "for sentence in sentences:\n",
    "    print(sentence)"
   ]
  },
  {
   "cell_type": "code",
   "execution_count": null,
   "metadata": {},
   "outputs": [],
   "source": [
    "from concepts import Context\n",
    "import matplotlib.pyplot as plt\n",
    "\n",
    "# get all unique words from sentences\n",
    "words = []\n",
    "for sentence in sentences:\n",
    "    words += sentence.split()\n",
    "words = list(set(words))\n",
    "\n",
    "sentence_numbers = list(map(lambda x : \"Sentence \"+ str(x), range(1, len(sentences)+1)))\n",
    "\n",
    "# create bools matrix\n",
    "matrix = []\n",
    "for sentence in sentences:\n",
    "    row = []\n",
    "    for word in words:\n",
    "        if word in sentence:\n",
    "            row.append(True)\n",
    "        else:\n",
    "            row.append(False)\n",
    "    matrix.append(row)\n",
    "\n",
    "# create context\n",
    "c = Context(objects=sentence_numbers, properties=words, bools=matrix)\n",
    "\n",
    "#plot matrix\n",
    "plt.imshow(matrix, cmap='hot', interpolation='nearest')\n",
    "plt.show()\n",
    "\n"
   ]
  },
  {
   "cell_type": "code",
   "execution_count": null,
   "metadata": {},
   "outputs": [],
   "source": [
    "import random\n",
    "#get random int from 0 to len(sentences)\n",
    "test_sentence = random.randint(0, len(sentences)-1)\n",
    "print(sentence_numbers[test_sentence], \" : \", sentences[test_sentence])\n",
    "test_sentence2 = random.randint(0, len(sentences)-1)\n",
    "print(sentence_numbers[test_sentence2], \" : \", sentences[test_sentence2])\n",
    "\n",
    "print(c.intension([sentence_numbers[test_sentence], sentence_numbers[test_sentence2]]))"
   ]
  },
  {
   "cell_type": "code",
   "execution_count": null,
   "metadata": {},
   "outputs": [],
   "source": [
    "test_word = random.randint(0, len(words)-1)\n",
    "print(words[test_word])\n",
    "print(c.extension([words[test_word]]))\n"
   ]
  },
  {
   "cell_type": "code",
   "execution_count": null,
   "metadata": {},
   "outputs": [],
   "source": [
    "c.lattice.graphviz()"
   ]
  },
  {
   "cell_type": "code",
   "execution_count": null,
   "metadata": {},
   "outputs": [],
   "source": [
    "#filter bools matrix\n",
    "#import deepcopy\n",
    "from copy import deepcopy\n",
    "import numpy as np\n",
    "\n",
    "matrix_c = deepcopy(matrix)\n",
    "matrix_c = np.array(matrix_c)\n",
    "matrix_c2 = deepcopy(matrix)\n",
    "matrix_c2 = np.array(matrix_c2)\n",
    "\n",
    "words_c = deepcopy(words)\n",
    "new_sentences = sentence_numbers.copy()\n",
    "\n",
    "new_words = []\n",
    "new_matrix = [[] for i in range(len(matrix_c))]\n",
    "\n",
    "print(matrix_c.shape)\n",
    "\n",
    "while matrix_c.shape[1] > 0 and matrix_c.shape[0] > 0:\n",
    "    column = np.argmax(matrix_c.sum(axis=0))\n",
    "\n",
    "    #get word\n",
    "    new_words.append(words_c[column])\n",
    "    words_c.remove(words_c[column])\n",
    "\n",
    "    for i in range(len(matrix)):\n",
    "        new_matrix[i].append(matrix_c2[i][column])\n",
    "\n",
    "    #get rows where column is True\n",
    "    rows = np.where(matrix_c[:,column] == True)[0]\n",
    "\n",
    "    #remove rows where column is True\n",
    "    matrix_c = matrix_c[np.where(matrix_c[:,column] == False)]\n",
    "\n",
    "    #remove column\n",
    "    matrix_c = np.delete(matrix_c, column, 1)\n",
    "    matrix_c2 = np.delete(matrix_c2, column, 1)\n",
    "\n",
    "    #remove sentences\n",
    "    rows = sorted(rows, reverse=True)\n",
    "    for row in rows:\n",
    "        new_sentences.remove(new_sentences[row])\n",
    "\n",
    "    \n",
    "\n",
    "print(np.array(new_matrix).shape)\n",
    "\n",
    "    \n"
   ]
  },
  {
   "cell_type": "code",
   "execution_count": null,
   "metadata": {},
   "outputs": [],
   "source": [
    "#plot matrix\n",
    "plt.imshow(new_matrix, cmap='hot', interpolation='nearest')\n",
    "plt.show()\n",
    "\n",
    "plt.imshow(matrix, cmap='hot', interpolation='nearest')\n",
    "plt.show()\n",
    "\n",
    "c = Context(objects=sentence_numbers, properties=new_words, bools=new_matrix)\n",
    "c.lattice.graphviz(view=True)"
   ]
  },
  {
   "cell_type": "code",
   "execution_count": null,
   "metadata": {},
   "outputs": [],
   "source": [
    "print(sentence_numbers[3], \":\" , sentences[3])\n",
    "# print(sentence_numbers[2], \":\" , sentences[2])\n",
    "print(sentence_numbers[15], \":\" , sentences[15])\n",
    "print(sentence_numbers[13], \":\" , sentences[13])\n",
    "c.intension([sentence_numbers[3], sentence_numbers[13], sentence_numbers[15]])"
   ]
  }
 ],
 "metadata": {
  "kernelspec": {
   "display_name": "Python 3",
   "language": "python",
   "name": "python3"
  },
  "language_info": {
   "codemirror_mode": {
    "name": "ipython",
    "version": 3
   },
   "file_extension": ".py",
   "mimetype": "text/x-python",
   "name": "python",
   "nbconvert_exporter": "python",
   "pygments_lexer": "ipython3",
   "version": "3.10.6"
  },
  "orig_nbformat": 4,
  "vscode": {
   "interpreter": {
    "hash": "a0f9f64982d40d977c213423a5d36b0375b29cf35256fb8538ccd31bf5690425"
   }
  }
 },
 "nbformat": 4,
 "nbformat_minor": 2
}
